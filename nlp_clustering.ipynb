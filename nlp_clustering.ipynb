{
  "cells": [
    {
      "cell_type": "markdown",
      "metadata": {
        "id": "view-in-github",
        "colab_type": "text"
      },
      "source": [
        "<a href=\"https://colab.research.google.com/github/AN-Akhand/Transaction-Data-Clustering-with-NLP/blob/main/nlp_clustering.ipynb\" target=\"_parent\"><img src=\"https://colab.research.google.com/assets/colab-badge.svg\" alt=\"Open In Colab\"/></a>"
      ]
    },
    {
      "cell_type": "code",
      "execution_count": null,
      "metadata": {
        "id": "8OQnBpTdieJQ",
        "colab": {
          "base_uri": "https://localhost:8080/"
        },
        "outputId": "aa3e9972-791f-4bf5-f018-4b41b157ad20"
      },
      "outputs": [
        {
          "output_type": "stream",
          "name": "stderr",
          "text": [
            "[nltk_data] Downloading package stopwords to /root/nltk_data...\n",
            "[nltk_data]   Package stopwords is already up-to-date!\n",
            "[nltk_data] Downloading package wordnet to /root/nltk_data...\n",
            "[nltk_data]   Package wordnet is already up-to-date!\n",
            "[nltk_data] Downloading package punkt to /root/nltk_data...\n",
            "[nltk_data]   Package punkt is already up-to-date!\n",
            "[nltk_data] Downloading package words to /root/nltk_data...\n",
            "[nltk_data]   Package words is already up-to-date!\n"
          ]
        }
      ],
      "source": [
        "import pandas as pd\n",
        "import numpy as np\n",
        "from collections import Counter\n",
        "import seaborn as sns\n",
        "import nltk\n",
        "from nltk.corpus import stopwords\n",
        "nltk.download('stopwords')\n",
        "nltk.download('wordnet')\n",
        "nltk.download('punkt')\n",
        "nltk.download('words')\n",
        "valid_words = list(set(nltk.corpus.words.words()))\n",
        "valid_words.extend(['eftn', 'ft', 'bkash', 'nogod', 'rtgs', 'pos', 'cib', \n",
        "                    'paywell', 'challan', 'npsb', 'fdr', 'dps', 'rd', 'fvg',\n",
        "                    'sme', 'atm', 'trf', 'sonod'])\n",
        "valid_words = set(valid_words)\n",
        "stopwords = stopwords.words('english')\n",
        "stopwords.extend(['no', 'c', 'cash', 'month', 'cap', 'smart', 'branch', 'month', \n",
        "                  'title', 'amount', 'purpose', 'please', 'pls', 'plz', 'begum',\n",
        "                  'palli', 'pally', 'bidyut', 'wrongly', 'inter', 'post', 'amt',\n",
        "                  'loan', 'agent', 'bank', 'salary', 'global'])\n",
        "w_tokenizer = nltk.tokenize.WhitespaceTokenizer()\n",
        "lemmatizer = nltk.stem.WordNetLemmatizer()\n",
        "def lemmatize_text(text):\n",
        "  return set([lemmatizer.lemmatize(w, 'v') for w in w_tokenizer.tokenize(text)])"
      ]
    },
    {
      "cell_type": "code",
      "execution_count": null,
      "metadata": {
        "id": "PY9iI2RX8p9z"
      },
      "outputs": [],
      "source": [
        "import spacy\n",
        "nlp = spacy.load(\"en_core_web_sm\")\n",
        "import en_core_web_sm\n",
        "nlp = en_core_web_sm.load()\n",
        "imp_words = ['eftn', 'ft', 'bkash', 'nogod', 'rtgs', 'pos', 'cib', 'paywell',\n",
        "             'challan', 'npsb', 'cheque', 'deposit', 'fund', 'transfer', \n",
        "             'credit', 'debit', 'withdraw', 'atm', 'card', 'recharge', 'top', \n",
        "             'up', 'wallet', 'fdr', 'interest', 'loan', 'dps', 'rd', 'app',\n",
        "             'agent', 'trf', 'sonod', 'foreign', 'exchange', 'installement', \n",
        "             'insurance', 'micro', 'merchant', 'remittance','salary', 'rent', \n",
        "             'sme','regular', 'bank']\n",
        "ents = set()\n",
        "def extract_ents(text):\n",
        "  doc = nlp(text)\n",
        "  for ent in doc.ents:\n",
        "    ents.add(ent.text)"
      ]
    },
    {
      "cell_type": "code",
      "execution_count": null,
      "metadata": {
        "id": "zQc2R203m7sz",
        "colab": {
          "base_uri": "https://localhost:8080/",
          "height": 17
        },
        "outputId": "77e21d76-8be4-4b7f-e9a0-1777cd5a22f6"
      },
      "outputs": [
        {
          "output_type": "display_data",
          "data": {
            "text/html": [
              "        <script type=\"text/javascript\">\n",
              "        window.PlotlyConfig = {MathJaxConfig: 'local'};\n",
              "        if (window.MathJax && window.MathJax.Hub && window.MathJax.Hub.Config) {window.MathJax.Hub.Config({SVG: {font: \"STIX-Web\"}});}\n",
              "        if (typeof require !== 'undefined') {\n",
              "        require.undef(\"plotly\");\n",
              "        requirejs.config({\n",
              "            paths: {\n",
              "                'plotly': ['https://cdn.plot.ly/plotly-2.18.2.min']\n",
              "            }\n",
              "        });\n",
              "        require(['plotly'], function(Plotly) {\n",
              "            window._Plotly = Plotly;\n",
              "        });\n",
              "        }\n",
              "        </script>\n",
              "        "
            ]
          },
          "metadata": {}
        }
      ],
      "source": [
        "import string\n",
        "from plotly import tools\n",
        "import plotly.offline as py\n",
        "py.init_notebook_mode(connected=True)\n",
        "import plotly.graph_objs as go\n",
        "import matplotlib.pyplot as plt"
      ]
    },
    {
      "cell_type": "code",
      "execution_count": null,
      "metadata": {
        "id": "Fl5fauMaml_M"
      },
      "outputs": [],
      "source": [
        "import gensim\n",
        "import gensim.corpora as corpora\n",
        "from gensim.utils import simple_preprocess\n",
        "from gensim.models import CoherenceModel\n",
        "from pprint import pprint"
      ]
    },
    {
      "cell_type": "code",
      "source": [
        "import json"
      ],
      "metadata": {
        "id": "JZVVZq3WpCcj"
      },
      "execution_count": null,
      "outputs": []
    },
    {
      "cell_type": "code",
      "execution_count": null,
      "metadata": {
        "id": "rCOYHYWqnWiF"
      },
      "outputs": [],
      "source": [
        "def create_corpus(data):\n",
        "    corpus=[]\n",
        "    \n",
        "    for x in data:\n",
        "      corpus.extend(x.split(' '))\n",
        "    return corpus"
      ]
    },
    {
      "cell_type": "code",
      "execution_count": null,
      "metadata": {
        "id": "oh79RM4fx6tl"
      },
      "outputs": [],
      "source": [
        "def plot_word_freq(data, num):\n",
        "  corpus = create_corpus(data)\n",
        "  corpus = [x for x in corpus if x != '']\n",
        "  counter=Counter(corpus)\n",
        "  most=counter.most_common()\n",
        "  x=[]\n",
        "  y=[]\n",
        "  for word,count in most[:num]:\n",
        "    x.append(word)\n",
        "    y.append(count)\n",
        "  sns.barplot(x=y,y=x)"
      ]
    },
    {
      "cell_type": "code",
      "source": [
        "def cluster_word_freq(data, i, num):\n",
        "  corpus = create_corpus(data[data['clusters'] == i]['clean'])\n",
        "  corpus = [x for x in corpus if x != '']\n",
        "  counter=Counter(corpus)\n",
        "  most=counter.most_common()\n",
        "  x=[]\n",
        "  y=[]\n",
        "  for word,count in most[:num]:\n",
        "    x.append(word)\n",
        "    y.append(count)\n",
        "  sns.barplot(x=y,y=x)"
      ],
      "metadata": {
        "id": "8nRa7SYdEy48"
      },
      "execution_count": null,
      "outputs": []
    },
    {
      "cell_type": "code",
      "source": [],
      "metadata": {
        "id": "lYyQNC7kE2gD"
      },
      "execution_count": null,
      "outputs": []
    },
    {
      "cell_type": "code",
      "source": [
        "import re"
      ],
      "metadata": {
        "id": "JaoOhz3jdF-N"
      },
      "execution_count": null,
      "outputs": []
    },
    {
      "cell_type": "code",
      "source": [
        "def get_word_freq(word, data):\n",
        "  counter = 0\n",
        "  for text in data:\n",
        "    if re.search(r'\\b' + word + r'\\b', text):\n",
        "      counter+=1\n",
        "  return (word,counter)"
      ],
      "metadata": {
        "id": "dN3Rc-e7OD7E"
      },
      "execution_count": null,
      "outputs": []
    },
    {
      "cell_type": "code",
      "execution_count": null,
      "metadata": {
        "id": "WBSH78KPjbgI"
      },
      "outputs": [],
      "source": [
        "data_complete = pd.read_csv(\"/content/drive/MyDrive/Transaction_Naration_Data_Set.csv\")"
      ]
    },
    {
      "cell_type": "code",
      "execution_count": null,
      "metadata": {
        "id": "iXAvZEUVkS7R"
      },
      "outputs": [],
      "source": [
        "data = data_complete.drop_duplicates(subset=['NARATION'])"
      ]
    },
    {
      "cell_type": "code",
      "source": [
        "data"
      ],
      "metadata": {
        "id": "Ko5DL41r8nhR"
      },
      "execution_count": null,
      "outputs": []
    },
    {
      "cell_type": "code",
      "source": [
        "len(data),data.index.shape[-1]"
      ],
      "metadata": {
        "id": "4g0YEvLF84-w"
      },
      "execution_count": null,
      "outputs": []
    },
    {
      "cell_type": "code",
      "source": [
        "data.loc[:,'NARATION']=data['NARATION'].str.lower()\n",
        "data.loc[:,'NARATION'] = data.loc[:,'NARATION'].str.replace('withdrawal', 'withdraw')\n",
        "data.loc[:,'NARATION'] = data.loc[:,'NARATION'].str.replace('saving ', 'savings ')\n",
        "data.loc[:,'NARATION'] = data.loc[:,'NARATION'].str.replace(r'\\btrf\\b', 'transfer')\n",
        "data.loc[:,'NARATION'] = data.loc[:,'NARATION'].str.replace('withdraw against inter branch cash deposit', 'withdraw against inter branch cash')\n",
        "data.loc[:,'NARATION'] = data.loc[:,'NARATION'].str.replace('withdraw against cash deposit', 'withdraw against cash')\n",
        "data.loc[:,'NARATION'] = data.loc[:,'NARATION'].str.replace('withdraw against deposit', 'withdraw against')\n",
        "data.loc[:,'NARATION'] = data.loc[:,'NARATION'].str.replace(r'\\bft\\b', '')\n",
        "data.loc[:,'NARATION'] = data.loc[:,'NARATION'].str.replace('[^A-Za-z]+', ' ', regex=True)\n",
        "data.loc[:,'NARATION'] = data.loc[:,'NARATION'].replace(['^\\s+$'], np.nan, regex = True)\n",
        "data = data[data['NARATION'].notnull()]\n",
        "data = data.drop_duplicates(subset=['NARATION'])\n",
        "data.loc[:,'NARATION'] = data.loc[:,'NARATION'].str.replace('withdraw against inter branch cash deposit', 'withdraw against inter branch cash')\n",
        "data.loc[:,'NARATION'] = data.loc[:,'NARATION'].str.replace('withdraw against cash deposit', 'withdraw against cash')\n",
        "data.loc[:,'NARATION'] = data.loc[:,'NARATION'].str.replace('withdraw against deposit', 'withdraw against')\n",
        "data = data.drop(data[data['NARATION'].str.contains('withdraw') & data['NARATION'].str.contains('deposit')].index)"
      ],
      "metadata": {
        "id": "SErusVz188Mq"
      },
      "execution_count": null,
      "outputs": []
    },
    {
      "cell_type": "code",
      "source": [
        "data.to_csv(\"/content/drive/MyDrive/Unique_And_Only_English_Data_Set.csv\")"
      ],
      "metadata": {
        "id": "hoKyXGf79YCU"
      },
      "execution_count": null,
      "outputs": []
    },
    {
      "cell_type": "code",
      "source": [
        "data = pd.read_csv(\"/content/drive/MyDrive/Unique_And_Only_English_Data_Set.csv\")"
      ],
      "metadata": {
        "id": "9huTefT59p5U"
      },
      "execution_count": null,
      "outputs": []
    },
    {
      "cell_type": "code",
      "source": [
        "data"
      ],
      "metadata": {
        "id": "4KAkmk6S9vBa",
        "colab": {
          "base_uri": "https://localhost:8080/",
          "height": 423
        },
        "outputId": "1e160beb-397b-48bb-aa03-ffcb09c2f65c"
      },
      "execution_count": null,
      "outputs": [
        {
          "output_type": "execute_result",
          "data": {
            "text/plain": [
              "          Unnamed: 0    AC_ID    AMOUNT   DOC_DATE  \\\n",
              "0                  0  3644877  342800.0  01-NOV-22   \n",
              "1                  1  1175256  342800.0  01-NOV-22   \n",
              "2                  2  2298226    1500.0  01-NOV-22   \n",
              "3                  3  4066427    1500.0  01-NOV-22   \n",
              "6                  6    38418     500.0  01-NOV-22   \n",
              "...              ...      ...       ...        ...   \n",
              "22534198    22534198  4199653   20000.0  29-APR-23   \n",
              "22534938    22534938  4648192   20000.0  29-APR-23   \n",
              "22535747    22535747   462228   20000.0  29-APR-23   \n",
              "22536483    22536483  5418855   36000.0  29-APR-23   \n",
              "22539045    22539045  4199653   20000.0  29-APR-23   \n",
              "\n",
              "                                                   NARATION   DR_CR  \n",
              "0                                             cash withdraw   Debit  \n",
              "1                                cash withdraw from a c no   Credit  \n",
              "2           cash withdraw from micro merchant point mm a c    Debit  \n",
              "3         credit against merchant cash withdraw service ...  Credit  \n",
              "6                                   cash deposit to a c no    Debit  \n",
              "...                                                     ...     ...  \n",
              "22534198  transaction for fund transfer smart app regula...  Credit  \n",
              "22534938  cap smart app regular fund transfer toanti tho...   Debit  \n",
              "22535747  cap smart app regular fund transfer anik bank ...   Debit  \n",
              "22536483                   cash deposit suraighat bazar sme  Credit  \n",
              "22539045  transaction for fund transfer smart app regula...  Credit  \n",
              "\n",
              "[105931 rows x 6 columns]"
            ],
            "text/html": [
              "\n",
              "  <div id=\"df-ac3c4b04-857f-426d-917a-eb5de826061a\">\n",
              "    <div class=\"colab-df-container\">\n",
              "      <div>\n",
              "<style scoped>\n",
              "    .dataframe tbody tr th:only-of-type {\n",
              "        vertical-align: middle;\n",
              "    }\n",
              "\n",
              "    .dataframe tbody tr th {\n",
              "        vertical-align: top;\n",
              "    }\n",
              "\n",
              "    .dataframe thead th {\n",
              "        text-align: right;\n",
              "    }\n",
              "</style>\n",
              "<table border=\"1\" class=\"dataframe\">\n",
              "  <thead>\n",
              "    <tr style=\"text-align: right;\">\n",
              "      <th></th>\n",
              "      <th>Unnamed: 0</th>\n",
              "      <th>AC_ID</th>\n",
              "      <th>AMOUNT</th>\n",
              "      <th>DOC_DATE</th>\n",
              "      <th>NARATION</th>\n",
              "      <th>DR_CR</th>\n",
              "    </tr>\n",
              "  </thead>\n",
              "  <tbody>\n",
              "    <tr>\n",
              "      <th>0</th>\n",
              "      <td>0</td>\n",
              "      <td>3644877</td>\n",
              "      <td>342800.0</td>\n",
              "      <td>01-NOV-22</td>\n",
              "      <td>cash withdraw</td>\n",
              "      <td>Debit</td>\n",
              "    </tr>\n",
              "    <tr>\n",
              "      <th>1</th>\n",
              "      <td>1</td>\n",
              "      <td>1175256</td>\n",
              "      <td>342800.0</td>\n",
              "      <td>01-NOV-22</td>\n",
              "      <td>cash withdraw from a c no</td>\n",
              "      <td>Credit</td>\n",
              "    </tr>\n",
              "    <tr>\n",
              "      <th>2</th>\n",
              "      <td>2</td>\n",
              "      <td>2298226</td>\n",
              "      <td>1500.0</td>\n",
              "      <td>01-NOV-22</td>\n",
              "      <td>cash withdraw from micro merchant point mm a c</td>\n",
              "      <td>Debit</td>\n",
              "    </tr>\n",
              "    <tr>\n",
              "      <th>3</th>\n",
              "      <td>3</td>\n",
              "      <td>4066427</td>\n",
              "      <td>1500.0</td>\n",
              "      <td>01-NOV-22</td>\n",
              "      <td>credit against merchant cash withdraw service ...</td>\n",
              "      <td>Credit</td>\n",
              "    </tr>\n",
              "    <tr>\n",
              "      <th>6</th>\n",
              "      <td>6</td>\n",
              "      <td>38418</td>\n",
              "      <td>500.0</td>\n",
              "      <td>01-NOV-22</td>\n",
              "      <td>cash deposit to a c no</td>\n",
              "      <td>Debit</td>\n",
              "    </tr>\n",
              "    <tr>\n",
              "      <th>...</th>\n",
              "      <td>...</td>\n",
              "      <td>...</td>\n",
              "      <td>...</td>\n",
              "      <td>...</td>\n",
              "      <td>...</td>\n",
              "      <td>...</td>\n",
              "    </tr>\n",
              "    <tr>\n",
              "      <th>22534198</th>\n",
              "      <td>22534198</td>\n",
              "      <td>4199653</td>\n",
              "      <td>20000.0</td>\n",
              "      <td>29-APR-23</td>\n",
              "      <td>transaction for fund transfer smart app regula...</td>\n",
              "      <td>Credit</td>\n",
              "    </tr>\n",
              "    <tr>\n",
              "      <th>22534938</th>\n",
              "      <td>22534938</td>\n",
              "      <td>4648192</td>\n",
              "      <td>20000.0</td>\n",
              "      <td>29-APR-23</td>\n",
              "      <td>cap smart app regular fund transfer toanti tho...</td>\n",
              "      <td>Debit</td>\n",
              "    </tr>\n",
              "    <tr>\n",
              "      <th>22535747</th>\n",
              "      <td>22535747</td>\n",
              "      <td>462228</td>\n",
              "      <td>20000.0</td>\n",
              "      <td>29-APR-23</td>\n",
              "      <td>cap smart app regular fund transfer anik bank ...</td>\n",
              "      <td>Debit</td>\n",
              "    </tr>\n",
              "    <tr>\n",
              "      <th>22536483</th>\n",
              "      <td>22536483</td>\n",
              "      <td>5418855</td>\n",
              "      <td>36000.0</td>\n",
              "      <td>29-APR-23</td>\n",
              "      <td>cash deposit suraighat bazar sme</td>\n",
              "      <td>Credit</td>\n",
              "    </tr>\n",
              "    <tr>\n",
              "      <th>22539045</th>\n",
              "      <td>22539045</td>\n",
              "      <td>4199653</td>\n",
              "      <td>20000.0</td>\n",
              "      <td>29-APR-23</td>\n",
              "      <td>transaction for fund transfer smart app regula...</td>\n",
              "      <td>Credit</td>\n",
              "    </tr>\n",
              "  </tbody>\n",
              "</table>\n",
              "<p>105931 rows × 6 columns</p>\n",
              "</div>\n",
              "      <button class=\"colab-df-convert\" onclick=\"convertToInteractive('df-ac3c4b04-857f-426d-917a-eb5de826061a')\"\n",
              "              title=\"Convert this dataframe to an interactive table.\"\n",
              "              style=\"display:none;\">\n",
              "        \n",
              "  <svg xmlns=\"http://www.w3.org/2000/svg\" height=\"24px\"viewBox=\"0 0 24 24\"\n",
              "       width=\"24px\">\n",
              "    <path d=\"M0 0h24v24H0V0z\" fill=\"none\"/>\n",
              "    <path d=\"M18.56 5.44l.94 2.06.94-2.06 2.06-.94-2.06-.94-.94-2.06-.94 2.06-2.06.94zm-11 1L8.5 8.5l.94-2.06 2.06-.94-2.06-.94L8.5 2.5l-.94 2.06-2.06.94zm10 10l.94 2.06.94-2.06 2.06-.94-2.06-.94-.94-2.06-.94 2.06-2.06.94z\"/><path d=\"M17.41 7.96l-1.37-1.37c-.4-.4-.92-.59-1.43-.59-.52 0-1.04.2-1.43.59L10.3 9.45l-7.72 7.72c-.78.78-.78 2.05 0 2.83L4 21.41c.39.39.9.59 1.41.59.51 0 1.02-.2 1.41-.59l7.78-7.78 2.81-2.81c.8-.78.8-2.07 0-2.86zM5.41 20L4 18.59l7.72-7.72 1.47 1.35L5.41 20z\"/>\n",
              "  </svg>\n",
              "      </button>\n",
              "      \n",
              "  <style>\n",
              "    .colab-df-container {\n",
              "      display:flex;\n",
              "      flex-wrap:wrap;\n",
              "      gap: 12px;\n",
              "    }\n",
              "\n",
              "    .colab-df-convert {\n",
              "      background-color: #E8F0FE;\n",
              "      border: none;\n",
              "      border-radius: 50%;\n",
              "      cursor: pointer;\n",
              "      display: none;\n",
              "      fill: #1967D2;\n",
              "      height: 32px;\n",
              "      padding: 0 0 0 0;\n",
              "      width: 32px;\n",
              "    }\n",
              "\n",
              "    .colab-df-convert:hover {\n",
              "      background-color: #E2EBFA;\n",
              "      box-shadow: 0px 1px 2px rgba(60, 64, 67, 0.3), 0px 1px 3px 1px rgba(60, 64, 67, 0.15);\n",
              "      fill: #174EA6;\n",
              "    }\n",
              "\n",
              "    [theme=dark] .colab-df-convert {\n",
              "      background-color: #3B4455;\n",
              "      fill: #D2E3FC;\n",
              "    }\n",
              "\n",
              "    [theme=dark] .colab-df-convert:hover {\n",
              "      background-color: #434B5C;\n",
              "      box-shadow: 0px 1px 3px 1px rgba(0, 0, 0, 0.15);\n",
              "      filter: drop-shadow(0px 1px 2px rgba(0, 0, 0, 0.3));\n",
              "      fill: #FFFFFF;\n",
              "    }\n",
              "  </style>\n",
              "\n",
              "      <script>\n",
              "        const buttonEl =\n",
              "          document.querySelector('#df-ac3c4b04-857f-426d-917a-eb5de826061a button.colab-df-convert');\n",
              "        buttonEl.style.display =\n",
              "          google.colab.kernel.accessAllowed ? 'block' : 'none';\n",
              "\n",
              "        async function convertToInteractive(key) {\n",
              "          const element = document.querySelector('#df-ac3c4b04-857f-426d-917a-eb5de826061a');\n",
              "          const dataTable =\n",
              "            await google.colab.kernel.invokeFunction('convertToInteractive',\n",
              "                                                     [key], {});\n",
              "          if (!dataTable) return;\n",
              "\n",
              "          const docLinkHtml = 'Like what you see? Visit the ' +\n",
              "            '<a target=\"_blank\" href=https://colab.research.google.com/notebooks/data_table.ipynb>data table notebook</a>'\n",
              "            + ' to learn more about interactive tables.';\n",
              "          element.innerHTML = '';\n",
              "          dataTable['output_type'] = 'display_data';\n",
              "          await google.colab.output.renderOutput(dataTable, element);\n",
              "          const docLink = document.createElement('div');\n",
              "          docLink.innerHTML = docLinkHtml;\n",
              "          element.appendChild(docLink);\n",
              "        }\n",
              "      </script>\n",
              "    </div>\n",
              "  </div>\n",
              "  "
            ]
          },
          "metadata": {},
          "execution_count": 369
        }
      ]
    },
    {
      "cell_type": "code",
      "source": [
        "plot_word_freq(data['NARATION'], 40)"
      ],
      "metadata": {
        "colab": {
          "base_uri": "https://localhost:8080/",
          "height": 484
        },
        "id": "sUg0DNUIcJ5j",
        "outputId": "df5280f9-85d9-4653-fb23-296d7ff19557"
      },
      "execution_count": null,
      "outputs": [
        {
          "output_type": "display_data",
          "data": {
            "text/plain": [
              "<Figure size 800x550 with 1 Axes>"
            ],
            "image/png": "[encoded data removed]"
          },
          "metadata": {}
        }
      ]
    },
    {
      "cell_type": "code",
      "execution_count": null,
      "metadata": {
        "id": "iwdOudlZkYiX"
      },
      "outputs": [],
      "source": [
        "data.loc[:,'clean'] = data.loc[:,'NARATION'].apply(lambda words: ' '.join(word.lower() for word in words.split(' ') if word not in stopwords))\n",
        "data['clean'] = data['clean'].replace(['^\\s+$'], np.nan, regex = True)\n",
        "data = data[data['clean'].notnull()]\n",
        "data = data.drop_duplicates(subset=['clean'])"
      ]
    },
    {
      "cell_type": "code",
      "source": [
        "plot_word_freq(data['clean'], 40)"
      ],
      "metadata": {
        "colab": {
          "base_uri": "https://localhost:8080/",
          "height": 484
        },
        "id": "asBlfTPYdqXr",
        "outputId": "742ce3dd-c747-42ff-88bb-30dee8f56495"
      },
      "execution_count": null,
      "outputs": [
        {
          "output_type": "display_data",
          "data": {
            "text/plain": [
              "<Figure size 800x550 with 1 Axes>"
            ],
            "image/png": "[encoded data removed]"
          },
          "metadata": {}
        }
      ]
    },
    {
      "cell_type": "code",
      "source": [
        "data.loc[:,'clean'] = data.loc[:,'clean'].apply(lambda words: ' '.join(word.lower() for word in words.split(' ') if word in valid_words))\n",
        "data['clean'] = data['clean'].replace(['^\\s+$'], np.nan, regex = True)\n",
        "data = data[data['clean'].notnull()]\n",
        "data = data.drop_duplicates(subset=['clean'])"
      ],
      "metadata": {
        "id": "N3hunHanehRZ"
      },
      "execution_count": null,
      "outputs": []
    },
    {
      "cell_type": "code",
      "source": [
        "plot_word_freq(data['clean'], 40)"
      ],
      "metadata": {
        "colab": {
          "base_uri": "https://localhost:8080/",
          "height": 484
        },
        "id": "nohkBKdqeoho",
        "outputId": "0bc8cae8-5532-4ebc-9170-0d2b02ff7918"
      },
      "execution_count": null,
      "outputs": [
        {
          "output_type": "display_data",
          "data": {
            "text/plain": [
              "<Figure size 800x550 with 1 Axes>"
            ],
            "image/png": "[encoded data removed]"
          },
          "metadata": {}
        }
      ]
    },
    {
      "cell_type": "code",
      "source": [
        "data['clean'].apply(extract_ents)"
      ],
      "metadata": {
        "colab": {
          "base_uri": "https://localhost:8080/"
        },
        "id": "Goa7UEdkY7cl",
        "outputId": "74db97b9-8e88-4feb-be27-204aa7ceea21"
      },
      "execution_count": null,
      "outputs": [
        {
          "output_type": "execute_result",
          "data": {
            "text/plain": [
              "0           None\n",
              "2           None\n",
              "3           None\n",
              "6           None\n",
              "12          None\n",
              "            ... \n",
              "22516022    None\n",
              "22524121    None\n",
              "22524564    None\n",
              "22527240    None\n",
              "22533913    None\n",
              "Name: clean, Length: 18562, dtype: object"
            ]
          },
          "metadata": {},
          "execution_count": 301
        }
      ]
    },
    {
      "cell_type": "code",
      "source": [
        "ents"
      ],
      "metadata": {
        "id": "9AfpnC_SaLE1"
      },
      "execution_count": null,
      "outputs": []
    },
    {
      "cell_type": "code",
      "source": [
        "temp = set()\n",
        "for text in ents:\n",
        "  temp.update(text.split(' '))"
      ],
      "metadata": {
        "id": "i07ZBTO3biIa"
      },
      "execution_count": null,
      "outputs": []
    },
    {
      "cell_type": "code",
      "source": [
        "ents = temp"
      ],
      "metadata": {
        "id": "04VdepwNb61x"
      },
      "execution_count": null,
      "outputs": []
    },
    {
      "cell_type": "code",
      "source": [
        "for word in imp_words:\n",
        "  if word in ents:\n",
        "    ents.remove(word)"
      ],
      "metadata": {
        "id": "hvhGZxtscC2z"
      },
      "execution_count": null,
      "outputs": []
    },
    {
      "cell_type": "code",
      "source": [
        "ents"
      ],
      "metadata": {
        "id": "nQeavHV4b_vL"
      },
      "execution_count": null,
      "outputs": []
    },
    {
      "cell_type": "code",
      "source": [
        "len(ents)"
      ],
      "metadata": {
        "colab": {
          "base_uri": "https://localhost:8080/"
        },
        "id": "8CPvISgD0N4_",
        "outputId": "ffcd867a-a5c3-44cb-ba38-dc6bcde647fe"
      },
      "execution_count": null,
      "outputs": [
        {
          "output_type": "execute_result",
          "data": {
            "text/plain": [
              "891"
            ]
          },
          "metadata": {},
          "execution_count": 305
        }
      ]
    },
    {
      "cell_type": "code",
      "source": [
        "data.loc[:,'clean'] = data.loc[:,'clean'].apply(lambda words: ' '.join(word.lower() for word in words.split(' ') if word not in ents))\n",
        "data['clean'] = data['clean'].replace(['^\\s+$'], np.nan, regex = True)\n",
        "data = data[data['clean'].notnull()]\n",
        "data = data.drop_duplicates(subset=['clean'])"
      ],
      "metadata": {
        "id": "tXwnGMqFgr_j"
      },
      "execution_count": null,
      "outputs": []
    },
    {
      "cell_type": "code",
      "source": [
        "plot_word_freq(data['clean'], 30)"
      ],
      "metadata": {
        "colab": {
          "base_uri": "https://localhost:8080/",
          "height": 484
        },
        "id": "kNRZMNd3hL8-",
        "outputId": "bebb395c-3a7f-4aae-a5e6-992dd1393716"
      },
      "execution_count": null,
      "outputs": [
        {
          "output_type": "display_data",
          "data": {
            "text/plain": [
              "<Figure size 800x550 with 1 Axes>"
            ],
            "image/png": "[encoded data removed]"
          },
          "metadata": {}
        }
      ]
    },
    {
      "cell_type": "code",
      "source": [
        "data['lem_tok'] = data['clean'].apply(lemmatize_text)"
      ],
      "metadata": {
        "id": "kD93gFbQClWd"
      },
      "execution_count": null,
      "outputs": []
    },
    {
      "cell_type": "code",
      "source": [
        "len(data)"
      ],
      "metadata": {
        "id": "xbFKBC-wW1M-"
      },
      "execution_count": null,
      "outputs": []
    },
    {
      "cell_type": "code",
      "source": [
        "data.to_csv(\"/content/drive/MyDrive/Tokenized_Data_Set.csv\")"
      ],
      "metadata": {
        "id": "OI1PHT1RhfM4"
      },
      "execution_count": null,
      "outputs": []
    },
    {
      "cell_type": "code",
      "source": [
        "data"
      ],
      "metadata": {
        "id": "n2tUVROehVLu"
      },
      "execution_count": null,
      "outputs": []
    },
    {
      "cell_type": "code",
      "execution_count": null,
      "metadata": {
        "id": "np5Po0Jbmdc3",
        "colab": {
          "base_uri": "https://localhost:8080/"
        },
        "outputId": "6743b604-49a3-4c5c-de3e-fdfd6c3ccbc2"
      },
      "outputs": [
        {
          "output_type": "stream",
          "name": "stdout",
          "text": [
            "\n",
            "No of clusters:  1\n",
            "\n",
            "Coherence Score:  0.4207056406021435\n",
            "\n",
            "No of clusters:  2\n",
            "\n",
            "Coherence Score:  0.44000390945860623\n",
            "\n",
            "No of clusters:  3\n",
            "\n",
            "Coherence Score:  0.5224515096580161\n",
            "\n",
            "No of clusters:  4\n",
            "\n",
            "Coherence Score:  0.5788007222256035\n",
            "\n",
            "No of clusters:  5\n",
            "\n",
            "Coherence Score:  0.5934629227468042\n",
            "\n",
            "No of clusters:  6\n",
            "\n",
            "Coherence Score:  0.6140346857235688\n",
            "\n",
            "No of clusters:  7\n",
            "\n",
            "Coherence Score:  0.6353365067896567\n",
            "\n",
            "No of clusters:  8\n",
            "\n",
            "Coherence Score:  0.6202575299381026\n",
            "\n",
            "No of clusters:  9\n",
            "\n",
            "Coherence Score:  0.6248774265256347\n",
            "\n",
            "No of clusters:  10\n",
            "\n",
            "Coherence Score:  0.6167019776935135\n",
            "\n",
            "No of clusters:  11\n",
            "\n",
            "Coherence Score:  0.6080768099001993\n",
            "\n",
            "No of clusters:  12\n",
            "\n",
            "Coherence Score:  0.6093401497016815\n",
            "\n",
            "No of clusters:  13\n",
            "\n",
            "Coherence Score:  0.5745660790130098\n",
            "\n",
            "No of clusters:  14\n",
            "\n",
            "Coherence Score:  0.5731088860903516\n",
            "\n",
            "No of clusters:  15\n",
            "\n",
            "Coherence Score:  0.5565774218949926\n"
          ]
        }
      ],
      "source": [
        "x = []\n",
        "y = []\n",
        "for i in range(15):  \n",
        "  id2word = corpora.Dictionary(data['lem_tok'])\n",
        "  texts = data['lem_tok']\n",
        "  corpus = [id2word.doc2bow(text) for text in texts]\n",
        "  [[(id2word[id], freq) for id, freq in cp] for cp in corpus]\n",
        "  lda_model = gensim.models.ldamodel.LdaModel(corpus=corpus,\n",
        "                                             id2word=id2word,\n",
        "                                             num_topics=i + 1, \n",
        "                                             random_state=123,\n",
        "                                             update_every=1,\n",
        "                                             chunksize=100,\n",
        "                                             passes=8,\n",
        "                                             alpha='auto',\n",
        "                                             per_word_topics=True)\n",
        "  doc_lda = lda_model[corpus]\n",
        "  coherence_model_lda = CoherenceModel(model=lda_model, texts=data['lem_tok'], dictionary=id2word, coherence='c_v')\n",
        "  coherence_lda = coherence_model_lda.get_coherence()\n",
        "  x.append(i+1)\n",
        "  y.append(coherence_lda)\n",
        "  print('\\nNo of clusters: ', i + 1)\n",
        "  print('\\nCoherence Score: ', coherence_lda)"
      ]
    },
    {
      "cell_type": "code",
      "execution_count": null,
      "metadata": {
        "id": "OOVf3mOIoSDC",
        "colab": {
          "base_uri": "https://localhost:8080/"
        },
        "outputId": "a7c9dc92-6336-4773-efb4-46f99d1c2a87"
      },
      "outputs": [
        {
          "output_type": "stream",
          "name": "stdout",
          "text": [
            "[(0,\n",
            "  '0.209*\"credit\" + 0.104*\"sme\" + 0.036*\"market\" + 0.026*\"corporate\" + '\n",
            "  '0.025*\"eftn\" + 0.023*\"relationship\" + 0.020*\"make\" + 0.017*\"paywell\" + '\n",
            "  '0.015*\"pos\" + 0.012*\"hat\"'),\n",
            " (1,\n",
            "  '0.403*\"deposit\" + 0.024*\"team\" + 0.023*\"land\" + 0.022*\"instead\" + '\n",
            "  '0.017*\"food\" + 0.016*\"spin\" + 0.012*\"compensation\" + 0.009*\"number\" + '\n",
            "  '0.009*\"shab\" + 0.009*\"babul\"'),\n",
            " (2,\n",
            "  '0.086*\"cheque\" + 0.059*\"atm\" + 0.037*\"cib\" + 0.033*\"ae\" + 0.032*\"financial\" '\n",
            "  '+ 0.026*\"literacy\" + 0.025*\"link\" + 0.025*\"need\" + 0.023*\"adjust\" + '\n",
            "  '0.022*\"device\"'),\n",
            " (3,\n",
            "  '0.077*\"card\" + 0.059*\"close\" + 0.038*\"letter\" + 0.034*\"regard\" + '\n",
            "  '0.024*\"officer\" + 0.024*\"instruction\" + 0.024*\"booth\" + 0.023*\"meet\" + '\n",
            "  '0.021*\"excess\" + 0.020*\"life\"'),\n",
            " (4,\n",
            "  '0.241*\"transfer\" + 0.229*\"fund\" + 0.119*\"regular\" + 0.016*\"festival\" + '\n",
            "  '0.015*\"rent\" + 0.014*\"send\" + 0.012*\"balance\" + 0.010*\"family\" + '\n",
            "  '0.009*\"dps\" + 0.008*\"paper\"'),\n",
            " (5,\n",
            "  '0.049*\"voucher\" + 0.039*\"cost\" + 0.038*\"print\" + 0.038*\"anniversary\" + '\n",
            "  '0.036*\"mail\" + 0.035*\"post\" + 0.033*\"communication\" + 0.033*\"friend\" + '\n",
            "  '0.030*\"vendor\" + 0.030*\"outlet\"'),\n",
            " (6,\n",
            "  '0.287*\"withdraw\" + 0.051*\"insurance\" + 0.049*\"issue\" + 0.021*\"debit\" + '\n",
            "  '0.019*\"wrong\" + 0.019*\"furniture\" + 0.016*\"train\" + 0.013*\"recharge\" + '\n",
            "  '0.012*\"water\" + 0.011*\"fill\"')]\n"
          ]
        }
      ],
      "source": [
        "id2word = corpora.Dictionary(data['lem_tok'])\n",
        "texts = data['lem_tok']\n",
        "corpus = [id2word.doc2bow(text) for text in texts]\n",
        "[[(id2word[id], freq) for id, freq in cp] for cp in corpus]\n",
        "lda_model = gensim.models.ldamodel.LdaModel(corpus=corpus,\n",
        "                                             id2word=id2word,\n",
        "                                             num_topics=7, \n",
        "                                             random_state=123,\n",
        "                                             update_every=1,\n",
        "                                             chunksize=100,\n",
        "                                             passes=8,\n",
        "                                             alpha='auto',\n",
        "                                             per_word_topics=True)\n",
        "pprint(lda_model.print_topics())"
      ]
    },
    {
      "cell_type": "code",
      "source": [
        "def format_topics_sentences(ldamodel, corpus, texts):\n",
        "    # Init output\n",
        "    sent_topics_df = pd.DataFrame()\n",
        "\n",
        "    # Get main topic in each document\n",
        "    for i, row in enumerate(ldamodel[corpus]):\n",
        "        row = sorted(row[0], key=lambda x: (x[1]), reverse=True)\n",
        "        # Get the Dominant topic, Perc Contribution and Keywords for each document\n",
        "        for j, (topic_num, prop_topic) in enumerate(row):\n",
        "            if j == 0:  # => dominant topic\n",
        "                wp = ldamodel.show_topic(topic_num)\n",
        "                topic_keywords = \", \".join([word for word, prop in wp])\n",
        "                sent_topics_df = sent_topics_df.append(pd.Series([int(topic_num), round(prop_topic,4), topic_keywords]), ignore_index=True)\n",
        "            else:\n",
        "                break\n",
        "    sent_topics_df.columns = ['Dominant_Topic', 'Perc_Contribution', 'Topic_Keywords']\n",
        "\n",
        "    # Add original text to the end of the output\n",
        "    contents = texts\n",
        "    sent_topics_df = pd.concat([sent_topics_df, contents], axis=1)\n",
        "    return(sent_topics_df)\n",
        "testtest = format_topics_sentences(lda_model, corpus, data['clean'])"
      ],
      "metadata": {
        "id": "f0oSECg4IfZs"
      },
      "execution_count": null,
      "outputs": []
    },
    {
      "cell_type": "code",
      "source": [
        "testtest"
      ],
      "metadata": {
        "colab": {
          "base_uri": "https://localhost:8080/",
          "height": 423
        },
        "id": "g9cej2JkSS89",
        "outputId": "de3897de-23c7-4c0f-a3a4-16d1daffa4ea"
      },
      "execution_count": null,
      "outputs": [
        {
          "output_type": "execute_result",
          "data": {
            "text/plain": [
              "          Dominant_Topic  Perc_Contribution  \\\n",
              "0                    6.0             0.4114   \n",
              "1                    6.0             0.4461   \n",
              "2                    6.0             0.2505   \n",
              "3                    1.0             0.4056   \n",
              "4                    6.0             0.2504   \n",
              "...                  ...                ...   \n",
              "22322364             NaN                NaN   \n",
              "22330918             NaN                NaN   \n",
              "22332238             NaN                NaN   \n",
              "22403205             NaN                NaN   \n",
              "22432313             NaN                NaN   \n",
              "\n",
              "                                             Topic_Keywords  \\\n",
              "0         withdraw, insurance, issue, debit, wrong, furn...   \n",
              "1         withdraw, insurance, issue, debit, wrong, furn...   \n",
              "2         withdraw, insurance, issue, debit, wrong, furn...   \n",
              "3         deposit, team, land, instead, food, spin, comp...   \n",
              "4         withdraw, insurance, issue, debit, wrong, furn...   \n",
              "...                                                     ...   \n",
              "22322364                                                NaN   \n",
              "22330918                                                NaN   \n",
              "22332238                                                NaN   \n",
              "22403205                                                NaN   \n",
              "22432313                                                NaN   \n",
              "\n",
              "                                                      clean  \n",
              "0                                                  withdraw  \n",
              "1                                                       NaN  \n",
              "2                                   withdraw micro merchant  \n",
              "3                                  credit merchant withdraw  \n",
              "4                                                       NaN  \n",
              "...                                                     ...  \n",
              "22322364                                deposit deposit sme  \n",
              "22330918  corporate approval printing banner regarding f...  \n",
              "22332238  corporate approval entertainment expense arran...  \n",
              "22403205                          regular fund transfer job  \n",
              "22432313                                        deposit rev  \n",
              "\n",
              "[12064 rows x 4 columns]"
            ],
            "text/html": [
              "\n",
              "  <div id=\"df-2b6320bd-6841-43c7-a0c2-3f046e76409b\">\n",
              "    <div class=\"colab-df-container\">\n",
              "      <div>\n",
              "<style scoped>\n",
              "    .dataframe tbody tr th:only-of-type {\n",
              "        vertical-align: middle;\n",
              "    }\n",
              "\n",
              "    .dataframe tbody tr th {\n",
              "        vertical-align: top;\n",
              "    }\n",
              "\n",
              "    .dataframe thead th {\n",
              "        text-align: right;\n",
              "    }\n",
              "</style>\n",
              "<table border=\"1\" class=\"dataframe\">\n",
              "  <thead>\n",
              "    <tr style=\"text-align: right;\">\n",
              "      <th></th>\n",
              "      <th>Dominant_Topic</th>\n",
              "      <th>Perc_Contribution</th>\n",
              "      <th>Topic_Keywords</th>\n",
              "      <th>clean</th>\n",
              "    </tr>\n",
              "  </thead>\n",
              "  <tbody>\n",
              "    <tr>\n",
              "      <th>0</th>\n",
              "      <td>6.0</td>\n",
              "      <td>0.4114</td>\n",
              "      <td>withdraw, insurance, issue, debit, wrong, furn...</td>\n",
              "      <td>withdraw</td>\n",
              "    </tr>\n",
              "    <tr>\n",
              "      <th>1</th>\n",
              "      <td>6.0</td>\n",
              "      <td>0.4461</td>\n",
              "      <td>withdraw, insurance, issue, debit, wrong, furn...</td>\n",
              "      <td>NaN</td>\n",
              "    </tr>\n",
              "    <tr>\n",
              "      <th>2</th>\n",
              "      <td>6.0</td>\n",
              "      <td>0.2505</td>\n",
              "      <td>withdraw, insurance, issue, debit, wrong, furn...</td>\n",
              "      <td>withdraw micro merchant</td>\n",
              "    </tr>\n",
              "    <tr>\n",
              "      <th>3</th>\n",
              "      <td>1.0</td>\n",
              "      <td>0.4056</td>\n",
              "      <td>deposit, team, land, instead, food, spin, comp...</td>\n",
              "      <td>credit merchant withdraw</td>\n",
              "    </tr>\n",
              "    <tr>\n",
              "      <th>4</th>\n",
              "      <td>6.0</td>\n",
              "      <td>0.2504</td>\n",
              "      <td>withdraw, insurance, issue, debit, wrong, furn...</td>\n",
              "      <td>NaN</td>\n",
              "    </tr>\n",
              "    <tr>\n",
              "      <th>...</th>\n",
              "      <td>...</td>\n",
              "      <td>...</td>\n",
              "      <td>...</td>\n",
              "      <td>...</td>\n",
              "    </tr>\n",
              "    <tr>\n",
              "      <th>22322364</th>\n",
              "      <td>NaN</td>\n",
              "      <td>NaN</td>\n",
              "      <td>NaN</td>\n",
              "      <td>deposit deposit sme</td>\n",
              "    </tr>\n",
              "    <tr>\n",
              "      <th>22330918</th>\n",
              "      <td>NaN</td>\n",
              "      <td>NaN</td>\n",
              "      <td>NaN</td>\n",
              "      <td>corporate approval printing banner regarding f...</td>\n",
              "    </tr>\n",
              "    <tr>\n",
              "      <th>22332238</th>\n",
              "      <td>NaN</td>\n",
              "      <td>NaN</td>\n",
              "      <td>NaN</td>\n",
              "      <td>corporate approval entertainment expense arran...</td>\n",
              "    </tr>\n",
              "    <tr>\n",
              "      <th>22403205</th>\n",
              "      <td>NaN</td>\n",
              "      <td>NaN</td>\n",
              "      <td>NaN</td>\n",
              "      <td>regular fund transfer job</td>\n",
              "    </tr>\n",
              "    <tr>\n",
              "      <th>22432313</th>\n",
              "      <td>NaN</td>\n",
              "      <td>NaN</td>\n",
              "      <td>NaN</td>\n",
              "      <td>deposit rev</td>\n",
              "    </tr>\n",
              "  </tbody>\n",
              "</table>\n",
              "<p>12064 rows × 4 columns</p>\n",
              "</div>\n",
              "      <button class=\"colab-df-convert\" onclick=\"convertToInteractive('df-2b6320bd-6841-43c7-a0c2-3f046e76409b')\"\n",
              "              title=\"Convert this dataframe to an interactive table.\"\n",
              "              style=\"display:none;\">\n",
              "        \n",
              "  <svg xmlns=\"http://www.w3.org/2000/svg\" height=\"24px\"viewBox=\"0 0 24 24\"\n",
              "       width=\"24px\">\n",
              "    <path d=\"M0 0h24v24H0V0z\" fill=\"none\"/>\n",
              "    <path d=\"M18.56 5.44l.94 2.06.94-2.06 2.06-.94-2.06-.94-.94-2.06-.94 2.06-2.06.94zm-11 1L8.5 8.5l.94-2.06 2.06-.94-2.06-.94L8.5 2.5l-.94 2.06-2.06.94zm10 10l.94 2.06.94-2.06 2.06-.94-2.06-.94-.94-2.06-.94 2.06-2.06.94z\"/><path d=\"M17.41 7.96l-1.37-1.37c-.4-.4-.92-.59-1.43-.59-.52 0-1.04.2-1.43.59L10.3 9.45l-7.72 7.72c-.78.78-.78 2.05 0 2.83L4 21.41c.39.39.9.59 1.41.59.51 0 1.02-.2 1.41-.59l7.78-7.78 2.81-2.81c.8-.78.8-2.07 0-2.86zM5.41 20L4 18.59l7.72-7.72 1.47 1.35L5.41 20z\"/>\n",
              "  </svg>\n",
              "      </button>\n",
              "      \n",
              "  <style>\n",
              "    .colab-df-container {\n",
              "      display:flex;\n",
              "      flex-wrap:wrap;\n",
              "      gap: 12px;\n",
              "    }\n",
              "\n",
              "    .colab-df-convert {\n",
              "      background-color: #E8F0FE;\n",
              "      border: none;\n",
              "      border-radius: 50%;\n",
              "      cursor: pointer;\n",
              "      display: none;\n",
              "      fill: #1967D2;\n",
              "      height: 32px;\n",
              "      padding: 0 0 0 0;\n",
              "      width: 32px;\n",
              "    }\n",
              "\n",
              "    .colab-df-convert:hover {\n",
              "      background-color: #E2EBFA;\n",
              "      box-shadow: 0px 1px 2px rgba(60, 64, 67, 0.3), 0px 1px 3px 1px rgba(60, 64, 67, 0.15);\n",
              "      fill: #174EA6;\n",
              "    }\n",
              "\n",
              "    [theme=dark] .colab-df-convert {\n",
              "      background-color: #3B4455;\n",
              "      fill: #D2E3FC;\n",
              "    }\n",
              "\n",
              "    [theme=dark] .colab-df-convert:hover {\n",
              "      background-color: #434B5C;\n",
              "      box-shadow: 0px 1px 3px 1px rgba(0, 0, 0, 0.15);\n",
              "      filter: drop-shadow(0px 1px 2px rgba(0, 0, 0, 0.3));\n",
              "      fill: #FFFFFF;\n",
              "    }\n",
              "  </style>\n",
              "\n",
              "      <script>\n",
              "        const buttonEl =\n",
              "          document.querySelector('#df-2b6320bd-6841-43c7-a0c2-3f046e76409b button.colab-df-convert');\n",
              "        buttonEl.style.display =\n",
              "          google.colab.kernel.accessAllowed ? 'block' : 'none';\n",
              "\n",
              "        async function convertToInteractive(key) {\n",
              "          const element = document.querySelector('#df-2b6320bd-6841-43c7-a0c2-3f046e76409b');\n",
              "          const dataTable =\n",
              "            await google.colab.kernel.invokeFunction('convertToInteractive',\n",
              "                                                     [key], {});\n",
              "          if (!dataTable) return;\n",
              "\n",
              "          const docLinkHtml = 'Like what you see? Visit the ' +\n",
              "            '<a target=\"_blank\" href=https://colab.research.google.com/notebooks/data_table.ipynb>data table notebook</a>'\n",
              "            + ' to learn more about interactive tables.';\n",
              "          element.innerHTML = '';\n",
              "          dataTable['output_type'] = 'display_data';\n",
              "          await google.colab.output.renderOutput(dataTable, element);\n",
              "          const docLink = document.createElement('div');\n",
              "          docLink.innerHTML = docLinkHtml;\n",
              "          element.appendChild(docLink);\n",
              "        }\n",
              "      </script>\n",
              "    </div>\n",
              "  </div>\n",
              "  "
            ]
          },
          "metadata": {},
          "execution_count": 449
        }
      ]
    },
    {
      "cell_type": "code",
      "source": [
        "testtest.to_csv(\"/content/drive/MyDrive/testtest.csv\")"
      ],
      "metadata": {
        "id": "oi7gKzuPOq76"
      },
      "execution_count": null,
      "outputs": []
    },
    {
      "cell_type": "code",
      "source": [
        "from gensim.models import Word2Vec\n",
        "gensim_model = Word2Vec(sentences=data['lem_tok'], workers=1, seed=42)"
      ],
      "metadata": {
        "id": "-0qUoAUR59LP"
      },
      "execution_count": null,
      "outputs": []
    },
    {
      "cell_type": "code",
      "source": [
        "def vectorize(list_of_docs, model):\n",
        "    features = []\n",
        "\n",
        "    for tokens in list_of_docs:\n",
        "        zero_vector = np.zeros(model.vector_size)\n",
        "        vectors = []\n",
        "        for token in tokens:\n",
        "            if token in model.wv:\n",
        "                try:\n",
        "                    vectors.append(model.wv[token])\n",
        "                except KeyError:\n",
        "                    continue\n",
        "        if vectors:\n",
        "            vectors = np.asarray(vectors)\n",
        "            avg_vec = vectors.mean(axis=0)\n",
        "            features.append(avg_vec)\n",
        "        else:\n",
        "            features.append(zero_vector)\n",
        "    return features\n",
        "\n",
        "data['vect'] = vectorize(data['lem_tok'], model=gensim_model)"
      ],
      "metadata": {
        "id": "j2rw4ofK6rA9"
      },
      "execution_count": null,
      "outputs": []
    },
    {
      "cell_type": "code",
      "source": [
        "from sklearn.cluster import KMeans, MiniBatchKMeans, BisectingKMeans\n",
        "from sklearn.metrics import silhouette_samples, silhouette_score, davies_bouldin_score\n",
        "from sklearn.preprocessing import scale"
      ],
      "metadata": {
        "id": "QrV1mwnC74jA"
      },
      "execution_count": null,
      "outputs": []
    },
    {
      "cell_type": "code",
      "source": [
        "wcss = []\n",
        "\n",
        "for i in range(4,15):\n",
        "    kmeans = KMeans(n_clusters=i,init='k-means++',max_iter=300,n_init=10,random_state=42)\n",
        "    kmeans.fit(list(data['vect']))\n",
        "    wcss.append(kmeans.inertia_)\n",
        "\n",
        "plt.plot(range(4,15),wcss)\n",
        "plt.show()"
      ],
      "metadata": {
        "colab": {
          "base_uri": "https://localhost:8080/",
          "height": 484
        },
        "id": "4-3z3awd7-fh",
        "outputId": "face80fd-438a-4edf-fd36-64fce954c439"
      },
      "execution_count": null,
      "outputs": [
        {
          "output_type": "display_data",
          "data": {
            "text/plain": [
              "<Figure size 800x550 with 1 Axes>"
            ],
            "image/png": "[encoded data removed]"
          },
          "metadata": {}
        }
      ]
    },
    {
      "cell_type": "code",
      "source": [
        "from yellowbrick.cluster import KElbowVisualizer\n",
        "model = KMeans()\n",
        "visualizer = KElbowVisualizer(model, k=(4,16), timings= False)\n",
        "visualizer.fit(np.array(list(data['vect'])))        # Fit data to visualizer\n",
        "visualizer.show() "
      ],
      "metadata": {
        "colab": {
          "base_uri": "https://localhost:8080/",
          "height": 1000
        },
        "id": "TM4MPjpK9PFe",
        "outputId": "b648ce84-d988-48d6-ef7b-4170cfd0afe2"
      },
      "execution_count": null,
      "outputs": [
        {
          "output_type": "stream",
          "name": "stderr",
          "text": [
            "/usr/local/lib/python3.10/dist-packages/sklearn/cluster/_kmeans.py:870: FutureWarning:\n",
            "\n",
            "The default value of `n_init` will change from 10 to 'auto' in 1.4. Set the value of `n_init` explicitly to suppress the warning\n",
            "\n",
            "/usr/local/lib/python3.10/dist-packages/sklearn/cluster/_kmeans.py:870: FutureWarning:\n",
            "\n",
            "The default value of `n_init` will change from 10 to 'auto' in 1.4. Set the value of `n_init` explicitly to suppress the warning\n",
            "\n",
            "/usr/local/lib/python3.10/dist-packages/sklearn/cluster/_kmeans.py:870: FutureWarning:\n",
            "\n",
            "The default value of `n_init` will change from 10 to 'auto' in 1.4. Set the value of `n_init` explicitly to suppress the warning\n",
            "\n",
            "/usr/local/lib/python3.10/dist-packages/sklearn/cluster/_kmeans.py:870: FutureWarning:\n",
            "\n",
            "The default value of `n_init` will change from 10 to 'auto' in 1.4. Set the value of `n_init` explicitly to suppress the warning\n",
            "\n",
            "/usr/local/lib/python3.10/dist-packages/sklearn/cluster/_kmeans.py:870: FutureWarning:\n",
            "\n",
            "The default value of `n_init` will change from 10 to 'auto' in 1.4. Set the value of `n_init` explicitly to suppress the warning\n",
            "\n",
            "/usr/local/lib/python3.10/dist-packages/sklearn/cluster/_kmeans.py:870: FutureWarning:\n",
            "\n",
            "The default value of `n_init` will change from 10 to 'auto' in 1.4. Set the value of `n_init` explicitly to suppress the warning\n",
            "\n",
            "/usr/local/lib/python3.10/dist-packages/sklearn/cluster/_kmeans.py:870: FutureWarning:\n",
            "\n",
            "The default value of `n_init` will change from 10 to 'auto' in 1.4. Set the value of `n_init` explicitly to suppress the warning\n",
            "\n",
            "/usr/local/lib/python3.10/dist-packages/sklearn/cluster/_kmeans.py:870: FutureWarning:\n",
            "\n",
            "The default value of `n_init` will change from 10 to 'auto' in 1.4. Set the value of `n_init` explicitly to suppress the warning\n",
            "\n",
            "/usr/local/lib/python3.10/dist-packages/sklearn/cluster/_kmeans.py:870: FutureWarning:\n",
            "\n",
            "The default value of `n_init` will change from 10 to 'auto' in 1.4. Set the value of `n_init` explicitly to suppress the warning\n",
            "\n",
            "/usr/local/lib/python3.10/dist-packages/sklearn/cluster/_kmeans.py:870: FutureWarning:\n",
            "\n",
            "The default value of `n_init` will change from 10 to 'auto' in 1.4. Set the value of `n_init` explicitly to suppress the warning\n",
            "\n",
            "/usr/local/lib/python3.10/dist-packages/sklearn/cluster/_kmeans.py:870: FutureWarning:\n",
            "\n",
            "The default value of `n_init` will change from 10 to 'auto' in 1.4. Set the value of `n_init` explicitly to suppress the warning\n",
            "\n",
            "/usr/local/lib/python3.10/dist-packages/sklearn/cluster/_kmeans.py:870: FutureWarning:\n",
            "\n",
            "The default value of `n_init` will change from 10 to 'auto' in 1.4. Set the value of `n_init` explicitly to suppress the warning\n",
            "\n"
          ]
        },
        {
          "output_type": "display_data",
          "data": {
            "text/plain": [
              "<Figure size 800x550 with 1 Axes>"
            ],
            "image/png": "[encoded data removed]"
          },
          "metadata": {}
        },
        {
          "output_type": "execute_result",
          "data": {
            "text/plain": [
              "<Axes: title={'center': 'Distortion Score Elbow for KMeans Clustering'}, xlabel='k', ylabel='distortion score'>"
            ]
          },
          "metadata": {},
          "execution_count": 463
        }
      ]
    },
    {
      "cell_type": "code",
      "source": [
        "KMeans_cluster_size = 15\n",
        "kmeans = KMeans(n_clusters=KMeans_cluster_size, n_init=10,random_state=123)\n",
        "kmeans.fit(list(data['vect']))"
      ],
      "metadata": {
        "colab": {
          "base_uri": "https://localhost:8080/",
          "height": 74
        },
        "id": "bxzqNLDp-4az",
        "outputId": "99e04484-5180-4152-af0a-78d87f9d5416"
      },
      "execution_count": null,
      "outputs": [
        {
          "output_type": "execute_result",
          "data": {
            "text/plain": [
              "KMeans(n_clusters=15, n_init=10, random_state=123)"
            ],
            "text/html": [
              "<style>#sk-container-id-7 {color: black;background-color: white;}#sk-container-id-7 pre{padding: 0;}#sk-container-id-7 div.sk-toggleable {background-color: white;}#sk-container-id-7 label.sk-toggleable__label {cursor: pointer;display: block;width: 100%;margin-bottom: 0;padding: 0.3em;box-sizing: border-box;text-align: center;}#sk-container-id-7 label.sk-toggleable__label-arrow:before {content: \"▸\";float: left;margin-right: 0.25em;color: #696969;}#sk-container-id-7 label.sk-toggleable__label-arrow:hover:before {color: black;}#sk-container-id-7 div.sk-estimator:hover label.sk-toggleable__label-arrow:before {color: black;}#sk-container-id-7 div.sk-toggleable__content {max-height: 0;max-width: 0;overflow: hidden;text-align: left;background-color: #f0f8ff;}#sk-container-id-7 div.sk-toggleable__content pre {margin: 0.2em;color: black;border-radius: 0.25em;background-color: #f0f8ff;}#sk-container-id-7 input.sk-toggleable__control:checked~div.sk-toggleable__content {max-height: 200px;max-width: 100%;overflow: auto;}#sk-container-id-7 input.sk-toggleable__control:checked~label.sk-toggleable__label-arrow:before {content: \"▾\";}#sk-container-id-7 div.sk-estimator input.sk-toggleable__control:checked~label.sk-toggleable__label {background-color: #d4ebff;}#sk-container-id-7 div.sk-label input.sk-toggleable__control:checked~label.sk-toggleable__label {background-color: #d4ebff;}#sk-container-id-7 input.sk-hidden--visually {border: 0;clip: rect(1px 1px 1px 1px);clip: rect(1px, 1px, 1px, 1px);height: 1px;margin: -1px;overflow: hidden;padding: 0;position: absolute;width: 1px;}#sk-container-id-7 div.sk-estimator {font-family: monospace;background-color: #f0f8ff;border: 1px dotted black;border-radius: 0.25em;box-sizing: border-box;margin-bottom: 0.5em;}#sk-container-id-7 div.sk-estimator:hover {background-color: #d4ebff;}#sk-container-id-7 div.sk-parallel-item::after {content: \"\";width: 100%;border-bottom: 1px solid gray;flex-grow: 1;}#sk-container-id-7 div.sk-label:hover label.sk-toggleable__label {background-color: #d4ebff;}#sk-container-id-7 div.sk-serial::before {content: \"\";position: absolute;border-left: 1px solid gray;box-sizing: border-box;top: 0;bottom: 0;left: 50%;z-index: 0;}#sk-container-id-7 div.sk-serial {display: flex;flex-direction: column;align-items: center;background-color: white;padding-right: 0.2em;padding-left: 0.2em;position: relative;}#sk-container-id-7 div.sk-item {position: relative;z-index: 1;}#sk-container-id-7 div.sk-parallel {display: flex;align-items: stretch;justify-content: center;background-color: white;position: relative;}#sk-container-id-7 div.sk-item::before, #sk-container-id-7 div.sk-parallel-item::before {content: \"\";position: absolute;border-left: 1px solid gray;box-sizing: border-box;top: 0;bottom: 0;left: 50%;z-index: -1;}#sk-container-id-7 div.sk-parallel-item {display: flex;flex-direction: column;z-index: 1;position: relative;background-color: white;}#sk-container-id-7 div.sk-parallel-item:first-child::after {align-self: flex-end;width: 50%;}#sk-container-id-7 div.sk-parallel-item:last-child::after {align-self: flex-start;width: 50%;}#sk-container-id-7 div.sk-parallel-item:only-child::after {width: 0;}#sk-container-id-7 div.sk-dashed-wrapped {border: 1px dashed gray;margin: 0 0.4em 0.5em 0.4em;box-sizing: border-box;padding-bottom: 0.4em;background-color: white;}#sk-container-id-7 div.sk-label label {font-family: monospace;font-weight: bold;display: inline-block;line-height: 1.2em;}#sk-container-id-7 div.sk-label-container {text-align: center;}#sk-container-id-7 div.sk-container {/* jupyter's `normalize.less` sets `[hidden] { display: none; }` but bootstrap.min.css set `[hidden] { display: none !important; }` so we also need the `!important` here to be able to override the default hidden behavior on the sphinx rendered scikit-learn.org. See: https://github.com/scikit-learn/scikit-learn/issues/21755 */display: inline-block !important;position: relative;}#sk-container-id-7 div.sk-text-repr-fallback {display: none;}</style><div id=\"sk-container-id-7\" class=\"sk-top-container\"><div class=\"sk-text-repr-fallback\"><pre>KMeans(n_clusters=15, n_init=10, random_state=123)</pre><b>In a Jupyter environment, please rerun this cell to show the HTML representation or trust the notebook. <br />On GitHub, the HTML representation is unable to render, please try loading this page with nbviewer.org.</b></div><div class=\"sk-container\" hidden><div class=\"sk-item\"><div class=\"sk-estimator sk-toggleable\"><input class=\"sk-toggleable__control sk-hidden--visually\" id=\"sk-estimator-id-7\" type=\"checkbox\" checked><label for=\"sk-estimator-id-7\" class=\"sk-toggleable__label sk-toggleable__label-arrow\">KMeans</label><div class=\"sk-toggleable__content\"><pre>KMeans(n_clusters=15, n_init=10, random_state=123)</pre></div></div></div></div></div>"
            ]
          },
          "metadata": {},
          "execution_count": 479
        }
      ]
    },
    {
      "cell_type": "code",
      "source": [
        "temp_data=data"
      ],
      "metadata": {
        "id": "N53C4e617dVA"
      },
      "execution_count": null,
      "outputs": []
    },
    {
      "cell_type": "code",
      "source": [
        "data['clusters'] = kmeans.labels_"
      ],
      "metadata": {
        "id": "YzsGmnLq_W9D"
      },
      "execution_count": null,
      "outputs": []
    },
    {
      "cell_type": "code",
      "source": [
        "data"
      ],
      "metadata": {
        "id": "nCwisHtR_lC2"
      },
      "execution_count": null,
      "outputs": []
    },
    {
      "cell_type": "code",
      "source": [
        "data.to_csv(\"/content/drive/MyDrive/test_res.csv\")"
      ],
      "metadata": {
        "id": "C-jGVwzh_uNb"
      },
      "execution_count": null,
      "outputs": []
    },
    {
      "cell_type": "code",
      "source": [
        "data[data['clusters'] == 2]"
      ],
      "metadata": {
        "id": "U1grqQa9ClSr"
      },
      "execution_count": null,
      "outputs": []
    },
    {
      "cell_type": "code",
      "source": [
        "cluster_word_freq(data, 6, 30)"
      ],
      "metadata": {
        "id": "jJ13SDG4FcY5"
      },
      "execution_count": null,
      "outputs": []
    },
    {
      "cell_type": "code",
      "source": [
        "import itertools\n",
        "import collections\n",
        "import matplotlib.pyplot as plt\n",
        "\n",
        "most_freq_words_kmeans = [[] for _ in range(7)]\n",
        "\n",
        "def perClusterPlot(arr,ax,title,clusterNo):\n",
        "  lemmatized_tokens = list(arr['lem_tok'])\n",
        "  token_list = list(itertools.chain(*lemmatized_tokens))\n",
        "  counts_no = collections.Counter(token_list)\n",
        "  clean_tweets = pd.DataFrame(counts_no.most_common (10), columns=['words', 'count'])\n",
        "  clean_tweets.sort_values(by='count').plot.barh(x='words',y='count',ax=ax,color='blue', title=title)\n",
        "  s = sum(counts_no.values())\n",
        "  vals = [x[1] for x in counts_no.most_common (10) if (x[1] / s * 100.0) > 5.0]\n",
        "  if len(vals) == 0:\n",
        "    keys = [x[0] for x in counts_no.most_common (3)]\n",
        "  elif len(vals) > 4:\n",
        "    keys = [x[0] for x in counts_no.most_common (4)]\n",
        "  else:\n",
        "    keys = [x[0] for x in counts_no.most_common (len(vals))]\n",
        "  print(s, keys, vals)\n",
        "  most_freq_words_kmeans[clusterNo].append(keys)\n",
        "\n",
        "\n",
        "fig, ax = plt.subplots(nrows=int(7 / 4 + 1), ncols=4, figsize=(16, 24))\n",
        "plt.subplots_adjust(wspace=1, hspace=0.5)\n",
        "axe = ax.ravel()\n",
        "for i in range(7):\n",
        "   perClusterPlot(data[data['clusters'] == i], axe[i], \"Cluster \" + str(i), i)\n",
        "\n",
        "plt.show()"
      ],
      "metadata": {
        "id": "y_LKLtPgVdr6"
      },
      "execution_count": null,
      "outputs": []
    },
    {
      "cell_type": "code",
      "source": [
        "from joblib import dump, load\n",
        "dump(kmeans, \"/content/drive/MyDrive/kmeans\")"
      ],
      "metadata": {
        "colab": {
          "base_uri": "https://localhost:8080/"
        },
        "id": "ywDAPH9DYQda",
        "outputId": "b00c7f45-fe3c-4826-dc42-8b2db0612172"
      },
      "execution_count": null,
      "outputs": [
        {
          "output_type": "execute_result",
          "data": {
            "text/plain": [
              "['/content/drive/MyDrive/kmeans']"
            ]
          },
          "metadata": {},
          "execution_count": 483
        }
      ]
    },
    {
      "cell_type": "code",
      "source": [
        "def predict(text):\n",
        "  "
      ],
      "metadata": {
        "id": "rR8E4v7DY1YE"
      },
      "execution_count": null,
      "outputs": []
    }
  ],
  "metadata": {
    "colab": {
      "provenance": [],
      "mount_file_id": "19t7XglFt8PsgIGlFJW4EEQDi-ExdeFh8",
      "authorship_tag": "ABX9TyPC8mWUiI1qIqpNQkQCCtxe",
      "include_colab_link": true
    },
    "kernelspec": {
      "display_name": "Python 3",
      "name": "python3"
    },
    "language_info": {
      "name": "python"
    }
  },
  "nbformat": 4,
  "nbformat_minor": 0
}